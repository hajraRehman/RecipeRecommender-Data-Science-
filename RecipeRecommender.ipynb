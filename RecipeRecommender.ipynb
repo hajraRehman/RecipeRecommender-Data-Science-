{
  "nbformat": 4,
  "nbformat_minor": 0,
  "metadata": {
    "colab": {
      "provenance": [],
      "gpuType": "T4"
    },
    "kernelspec": {
      "name": "python3",
      "display_name": "Python 3"
    },
    "language_info": {
      "name": "python"
    },
    "accelerator": "GPU",
    "widgets": {
      "application/vnd.jupyter.widget-state+json": {
        "6598bef5051e438485d12535aa0d4223": {
          "model_module": "@jupyter-widgets/controls",
          "model_name": "TextModel",
          "model_module_version": "1.5.0",
          "state": {
            "_dom_classes": [],
            "_model_module": "@jupyter-widgets/controls",
            "_model_module_version": "1.5.0",
            "_model_name": "TextModel",
            "_view_count": null,
            "_view_module": "@jupyter-widgets/controls",
            "_view_module_version": "1.5.0",
            "_view_name": "TextView",
            "continuous_update": true,
            "description": "Ingredients:",
            "description_tooltip": null,
            "disabled": false,
            "layout": "IPY_MODEL_da2701a15ea34e2997706b87091b77cf",
            "placeholder": "Enter ingredients separated by commas",
            "style": "IPY_MODEL_ea64af79452642a3b3b72cf107c0e3dd",
            "value": "eggs, cheese, onion"
          }
        },
        "da2701a15ea34e2997706b87091b77cf": {
          "model_module": "@jupyter-widgets/base",
          "model_name": "LayoutModel",
          "model_module_version": "1.2.0",
          "state": {
            "_model_module": "@jupyter-widgets/base",
            "_model_module_version": "1.2.0",
            "_model_name": "LayoutModel",
            "_view_count": null,
            "_view_module": "@jupyter-widgets/base",
            "_view_module_version": "1.2.0",
            "_view_name": "LayoutView",
            "align_content": null,
            "align_items": null,
            "align_self": null,
            "border": null,
            "bottom": null,
            "display": null,
            "flex": null,
            "flex_flow": null,
            "grid_area": null,
            "grid_auto_columns": null,
            "grid_auto_flow": null,
            "grid_auto_rows": null,
            "grid_column": null,
            "grid_gap": null,
            "grid_row": null,
            "grid_template_areas": null,
            "grid_template_columns": null,
            "grid_template_rows": null,
            "height": null,
            "justify_content": null,
            "justify_items": null,
            "left": null,
            "margin": null,
            "max_height": null,
            "max_width": null,
            "min_height": null,
            "min_width": null,
            "object_fit": null,
            "object_position": null,
            "order": null,
            "overflow": null,
            "overflow_x": null,
            "overflow_y": null,
            "padding": null,
            "right": null,
            "top": null,
            "visibility": null,
            "width": "70%"
          }
        },
        "ea64af79452642a3b3b72cf107c0e3dd": {
          "model_module": "@jupyter-widgets/controls",
          "model_name": "DescriptionStyleModel",
          "model_module_version": "1.5.0",
          "state": {
            "_model_module": "@jupyter-widgets/controls",
            "_model_module_version": "1.5.0",
            "_model_name": "DescriptionStyleModel",
            "_view_count": null,
            "_view_module": "@jupyter-widgets/base",
            "_view_module_version": "1.2.0",
            "_view_name": "StyleView",
            "description_width": ""
          }
        },
        "278177b06e1c4c98bd2a28e761c121e2": {
          "model_module": "@jupyter-widgets/controls",
          "model_name": "IntSliderModel",
          "model_module_version": "1.5.0",
          "state": {
            "_dom_classes": [],
            "_model_module": "@jupyter-widgets/controls",
            "_model_module_version": "1.5.0",
            "_model_name": "IntSliderModel",
            "_view_count": null,
            "_view_module": "@jupyter-widgets/controls",
            "_view_module_version": "1.5.0",
            "_view_name": "IntSliderView",
            "continuous_update": false,
            "description": "Top N:",
            "description_tooltip": null,
            "disabled": false,
            "layout": "IPY_MODEL_25798b9e23bd48f69acf4666bd15e0a4",
            "max": 20,
            "min": 1,
            "orientation": "horizontal",
            "readout": true,
            "readout_format": "d",
            "step": 1,
            "style": "IPY_MODEL_00744294c08a4aa0b3d81118f61f08aa",
            "value": 5
          }
        },
        "25798b9e23bd48f69acf4666bd15e0a4": {
          "model_module": "@jupyter-widgets/base",
          "model_name": "LayoutModel",
          "model_module_version": "1.2.0",
          "state": {
            "_model_module": "@jupyter-widgets/base",
            "_model_module_version": "1.2.0",
            "_model_name": "LayoutModel",
            "_view_count": null,
            "_view_module": "@jupyter-widgets/base",
            "_view_module_version": "1.2.0",
            "_view_name": "LayoutView",
            "align_content": null,
            "align_items": null,
            "align_self": null,
            "border": null,
            "bottom": null,
            "display": null,
            "flex": null,
            "flex_flow": null,
            "grid_area": null,
            "grid_auto_columns": null,
            "grid_auto_flow": null,
            "grid_auto_rows": null,
            "grid_column": null,
            "grid_gap": null,
            "grid_row": null,
            "grid_template_areas": null,
            "grid_template_columns": null,
            "grid_template_rows": null,
            "height": null,
            "justify_content": null,
            "justify_items": null,
            "left": null,
            "margin": null,
            "max_height": null,
            "max_width": null,
            "min_height": null,
            "min_width": null,
            "object_fit": null,
            "object_position": null,
            "order": null,
            "overflow": null,
            "overflow_x": null,
            "overflow_y": null,
            "padding": null,
            "right": null,
            "top": null,
            "visibility": null,
            "width": "50%"
          }
        },
        "00744294c08a4aa0b3d81118f61f08aa": {
          "model_module": "@jupyter-widgets/controls",
          "model_name": "SliderStyleModel",
          "model_module_version": "1.5.0",
          "state": {
            "_model_module": "@jupyter-widgets/controls",
            "_model_module_version": "1.5.0",
            "_model_name": "SliderStyleModel",
            "_view_count": null,
            "_view_module": "@jupyter-widgets/base",
            "_view_module_version": "1.2.0",
            "_view_name": "StyleView",
            "description_width": "",
            "handle_color": null
          }
        },
        "149d6613771247e79619638ee6bc45ac": {
          "model_module": "@jupyter-widgets/controls",
          "model_name": "ButtonModel",
          "model_module_version": "1.5.0",
          "state": {
            "_dom_classes": [],
            "_model_module": "@jupyter-widgets/controls",
            "_model_module_version": "1.5.0",
            "_model_name": "ButtonModel",
            "_view_count": null,
            "_view_module": "@jupyter-widgets/controls",
            "_view_module_version": "1.5.0",
            "_view_name": "ButtonView",
            "button_style": "",
            "description": "Get Recommendations",
            "disabled": false,
            "icon": "",
            "layout": "IPY_MODEL_d848b45b668c4286bfcb31fcd1e6eada",
            "style": "IPY_MODEL_d00598d185ec448a92183da10d149a27",
            "tooltip": ""
          }
        },
        "d848b45b668c4286bfcb31fcd1e6eada": {
          "model_module": "@jupyter-widgets/base",
          "model_name": "LayoutModel",
          "model_module_version": "1.2.0",
          "state": {
            "_model_module": "@jupyter-widgets/base",
            "_model_module_version": "1.2.0",
            "_model_name": "LayoutModel",
            "_view_count": null,
            "_view_module": "@jupyter-widgets/base",
            "_view_module_version": "1.2.0",
            "_view_name": "LayoutView",
            "align_content": null,
            "align_items": null,
            "align_self": null,
            "border": null,
            "bottom": null,
            "display": null,
            "flex": null,
            "flex_flow": null,
            "grid_area": null,
            "grid_auto_columns": null,
            "grid_auto_flow": null,
            "grid_auto_rows": null,
            "grid_column": null,
            "grid_gap": null,
            "grid_row": null,
            "grid_template_areas": null,
            "grid_template_columns": null,
            "grid_template_rows": null,
            "height": null,
            "justify_content": null,
            "justify_items": null,
            "left": null,
            "margin": null,
            "max_height": null,
            "max_width": null,
            "min_height": null,
            "min_width": null,
            "object_fit": null,
            "object_position": null,
            "order": null,
            "overflow": null,
            "overflow_x": null,
            "overflow_y": null,
            "padding": null,
            "right": null,
            "top": null,
            "visibility": null,
            "width": null
          }
        },
        "d00598d185ec448a92183da10d149a27": {
          "model_module": "@jupyter-widgets/controls",
          "model_name": "ButtonStyleModel",
          "model_module_version": "1.5.0",
          "state": {
            "_model_module": "@jupyter-widgets/controls",
            "_model_module_version": "1.5.0",
            "_model_name": "ButtonStyleModel",
            "_view_count": null,
            "_view_module": "@jupyter-widgets/base",
            "_view_module_version": "1.2.0",
            "_view_name": "StyleView",
            "button_color": null,
            "font_weight": ""
          }
        },
        "575908905f344ef2a932c6f46ab828cf": {
          "model_module": "@jupyter-widgets/output",
          "model_name": "OutputModel",
          "model_module_version": "1.0.0",
          "state": {
            "_dom_classes": [],
            "_model_module": "@jupyter-widgets/output",
            "_model_module_version": "1.0.0",
            "_model_name": "OutputModel",
            "_view_count": null,
            "_view_module": "@jupyter-widgets/output",
            "_view_module_version": "1.0.0",
            "_view_name": "OutputView",
            "layout": "IPY_MODEL_f1cb3970c18a45f795d0cee26e2709bc",
            "msg_id": "",
            "outputs": [
              {
                "output_type": "stream",
                "name": "stdout",
                "text": [
                  "4190. Three-Cheese Fondue with Tomato Onion Chutney \n",
                  "   Matched: 2, Missing: gourmet, tomato, winter\n",
                  "   Coverage: 25.00%, Rating: 5.00\n",
                  "   Score: 1.375\n",
                  "\n",
                  "3413. Soupe a l'Oignon au Fromage (French Onion Soup) \n",
                  "   Matched: 2, Missing: gourmet, soup/stew, winter\n",
                  "   Coverage: 28.57%, Rating: 4.38\n",
                  "   Score: 1.373\n",
                  "\n",
                  "17671. Handmade Pasta with Pancetta, Cherry Tomatoes, and Herbs \n",
                  "   Matched: 2, Missing: bon appétit, dairy, herb, pasta, pork, tomato\n",
                  "   Coverage: 18.18%, Rating: 5.00\n",
                  "   Score: 1.355\n",
                  "\n",
                  "6212. Veal Chops with Caramelized Onion and Stilton Sauce \n",
                  "   Matched: 2, Missing: blue cheese, bon appétit, sauté, veal\n",
                  "   Coverage: 22.22%, Rating: 4.38\n",
                  "   Score: 1.354\n",
                  "\n",
                  "1462. Rotini with Peppers, Onions, and Feta \n",
                  "   Matched: 2, Missing: gourmet, pasta, pepper, sauté, winter\n",
                  "   Coverage: 20.00%, Rating: 3.75\n",
                  "   Score: 1.335\n",
                  "\n"
                ]
              }
            ]
          }
        },
        "f1cb3970c18a45f795d0cee26e2709bc": {
          "model_module": "@jupyter-widgets/base",
          "model_name": "LayoutModel",
          "model_module_version": "1.2.0",
          "state": {
            "_model_module": "@jupyter-widgets/base",
            "_model_module_version": "1.2.0",
            "_model_name": "LayoutModel",
            "_view_count": null,
            "_view_module": "@jupyter-widgets/base",
            "_view_module_version": "1.2.0",
            "_view_name": "LayoutView",
            "align_content": null,
            "align_items": null,
            "align_self": null,
            "border": null,
            "bottom": null,
            "display": null,
            "flex": null,
            "flex_flow": null,
            "grid_area": null,
            "grid_auto_columns": null,
            "grid_auto_flow": null,
            "grid_auto_rows": null,
            "grid_column": null,
            "grid_gap": null,
            "grid_row": null,
            "grid_template_areas": null,
            "grid_template_columns": null,
            "grid_template_rows": null,
            "height": null,
            "justify_content": null,
            "justify_items": null,
            "left": null,
            "margin": null,
            "max_height": null,
            "max_width": null,
            "min_height": null,
            "min_width": null,
            "object_fit": null,
            "object_position": null,
            "order": null,
            "overflow": null,
            "overflow_x": null,
            "overflow_y": null,
            "padding": null,
            "right": null,
            "top": null,
            "visibility": null,
            "width": null
          }
        }
      }
    }
  },
  "cells": [
    {
      "cell_type": "code",
      "execution_count": 1,
      "metadata": {
        "colab": {
          "base_uri": "https://localhost:8080/"
        },
        "id": "D-JbakWF3RIP",
        "outputId": "d3d829f1-8008-4e10-9bde-941ab716e1c6"
      },
      "outputs": [
        {
          "output_type": "stream",
          "name": "stdout",
          "text": [
            "Drive already mounted at /content/drive; to attempt to forcibly remount, call drive.mount(\"/content/drive\", force_remount=True).\n"
          ]
        }
      ],
      "source": [
        "from google.colab import drive\n",
        "drive.mount('/content/drive')\n"
      ]
    },
    {
      "cell_type": "code",
      "source": [
        "!mkdir -p ~/.kaggle\n",
        "!cp /content/drive/MyDrive/PersonalProjects/RecipesRecommendation/kaggle.json ~/.kaggle/\n",
        "!chmod 600 ~/.kaggle/kaggle.json\n"
      ],
      "metadata": {
        "id": "M3N-gHpN3kgz"
      },
      "execution_count": 2,
      "outputs": []
    },
    {
      "cell_type": "code",
      "source": [
        "!kaggle datasets download -d hugodarwood/epirecipes\n",
        "!unzip epirecipes.zip -d epirecipes\n"
      ],
      "metadata": {
        "colab": {
          "base_uri": "https://localhost:8080/"
        },
        "id": "0FaeP7-B31xf",
        "outputId": "e43b363e-83ad-4014-80b1-e26f86ea7749"
      },
      "execution_count": 3,
      "outputs": [
        {
          "output_type": "stream",
          "name": "stdout",
          "text": [
            "Dataset URL: https://www.kaggle.com/datasets/hugodarwood/epirecipes\n",
            "License(s): unknown\n",
            "Downloading epirecipes.zip to /content\n",
            "  0% 0.00/11.3M [00:00<?, ?B/s]\n",
            "100% 11.3M/11.3M [00:00<00:00, 779MB/s]\n",
            "Archive:  epirecipes.zip\n",
            "  inflating: epirecipes/epi_r.csv    \n",
            "  inflating: epirecipes/full_format_recipes.json  \n",
            "  inflating: epirecipes/recipe.py    \n",
            "  inflating: epirecipes/utils.py     \n"
          ]
        }
      ]
    },
    {
      "cell_type": "markdown",
      "source": [
        "### Data Loading and Understanding the Dataset"
      ],
      "metadata": {
        "id": "KN2dGj2W5lYG"
      }
    },
    {
      "cell_type": "code",
      "source": [
        "import pandas as pd\n",
        "recipes = pd.read_csv('epirecipes/epi_r.csv')\n",
        "print(recipes.head())\n"
      ],
      "metadata": {
        "colab": {
          "base_uri": "https://localhost:8080/"
        },
        "id": "aWWU3Ukb34fg",
        "outputId": "0e5c7da8-73d0-4804-dc95-ea497eede687"
      },
      "execution_count": 4,
      "outputs": [
        {
          "output_type": "stream",
          "name": "stdout",
          "text": [
            "                                         title  rating  calories  protein  \\\n",
            "0              Lentil, Apple, and Turkey Wrap    2.500     426.0     30.0   \n",
            "1  Boudin Blanc Terrine with Red Onion Confit    4.375     403.0     18.0   \n",
            "2                Potato and Fennel Soup Hodge    3.750     165.0      6.0   \n",
            "3             Mahi-Mahi in Tomato Olive Sauce    5.000       NaN      NaN   \n",
            "4                    Spinach Noodle Casserole    3.125     547.0     20.0   \n",
            "\n",
            "    fat  sodium  #cakeweek  #wasteless  22-minute meals  3-ingredient recipes  \\\n",
            "0   7.0   559.0        0.0         0.0              0.0                   0.0   \n",
            "1  23.0  1439.0        0.0         0.0              0.0                   0.0   \n",
            "2   7.0   165.0        0.0         0.0              0.0                   0.0   \n",
            "3   NaN     NaN        0.0         0.0              0.0                   0.0   \n",
            "4  32.0   452.0        0.0         0.0              0.0                   0.0   \n",
            "\n",
            "   ...  yellow squash  yogurt  yonkers  yuca  zucchini  cookbooks  leftovers  \\\n",
            "0  ...            0.0     0.0      0.0   0.0       0.0        0.0        0.0   \n",
            "1  ...            0.0     0.0      0.0   0.0       0.0        0.0        0.0   \n",
            "2  ...            0.0     0.0      0.0   0.0       0.0        0.0        0.0   \n",
            "3  ...            0.0     0.0      0.0   0.0       0.0        0.0        0.0   \n",
            "4  ...            0.0     0.0      0.0   0.0       0.0        0.0        0.0   \n",
            "\n",
            "   snack  snack week  turkey  \n",
            "0    0.0         0.0     1.0  \n",
            "1    0.0         0.0     0.0  \n",
            "2    0.0         0.0     0.0  \n",
            "3    0.0         0.0     0.0  \n",
            "4    0.0         0.0     0.0  \n",
            "\n",
            "[5 rows x 680 columns]\n"
          ]
        }
      ]
    },
    {
      "cell_type": "code",
      "source": [
        "\n",
        "print(\"Dataset shape:\", recipes.shape)\n",
        "print(\"Columns count:\", len(recipes.columns))\n",
        "\n",
        "\n"
      ],
      "metadata": {
        "colab": {
          "base_uri": "https://localhost:8080/"
        },
        "id": "y2JFaGuP37wi",
        "outputId": "62a1bbc2-e971-4629-f0cb-dc7bca26bbf4"
      },
      "execution_count": 5,
      "outputs": [
        {
          "output_type": "stream",
          "name": "stdout",
          "text": [
            "Dataset shape: (20052, 680)\n",
            "Columns count: 680\n"
          ]
        }
      ]
    },
    {
      "cell_type": "code",
      "source": [
        "\n",
        "print(\"First 5 columns:\", list(recipes.columns[:5]))\n",
        "print(\"Last 5 columns:\", list(recipes.columns[-5:]))\n",
        "\n"
      ],
      "metadata": {
        "colab": {
          "base_uri": "https://localhost:8080/"
        },
        "id": "4rEZSdlT54iK",
        "outputId": "20a8f231-5862-405c-c1ef-fe1d6721e092"
      },
      "execution_count": 6,
      "outputs": [
        {
          "output_type": "stream",
          "name": "stdout",
          "text": [
            "First 5 columns: ['title', 'rating', 'calories', 'protein', 'fat']\n",
            "Last 5 columns: ['cookbooks', 'leftovers', 'snack', 'snack week', 'turkey']\n"
          ]
        }
      ]
    },
    {
      "cell_type": "code",
      "source": [
        "metadata_cols = ['title', 'rating', 'calories', 'protein', 'fat', 'sodium']\n",
        "ingredient_cols = [col for col in recipes.columns if col not in metadata_cols]\n",
        "\n",
        "print(f\"Number of ingredient columns: {len(ingredient_cols)}\")\n"
      ],
      "metadata": {
        "colab": {
          "base_uri": "https://localhost:8080/"
        },
        "id": "0mUtZ5fL57VG",
        "outputId": "f5298b42-7b75-41d1-d421-e3e01b4260a5"
      },
      "execution_count": 7,
      "outputs": [
        {
          "output_type": "stream",
          "name": "stdout",
          "text": [
            "Number of ingredient columns: 674\n"
          ]
        }
      ]
    },
    {
      "cell_type": "code",
      "source": [
        "\n",
        "# sparsity check: % of zeros in ingredient columns (how often ingredients are absent)\n",
        "ingredient_data = recipes[ingredient_cols]\n",
        "zero_percentage = (ingredient_data == 0).sum().sum() / ingredient_data.size * 100\n",
        "print(f\"Ingredient matrix sparsity (percent zeros): {zero_percentage:.2f}%\")\n"
      ],
      "metadata": {
        "colab": {
          "base_uri": "https://localhost:8080/"
        },
        "id": "rZvRgAwY6EWo",
        "outputId": "52e307b6-fc35-46ce-b86b-a8bb45853f80"
      },
      "execution_count": 8,
      "outputs": [
        {
          "output_type": "stream",
          "name": "stdout",
          "text": [
            "Ingredient matrix sparsity (percent zeros): 98.19%\n"
          ]
        }
      ]
    },
    {
      "cell_type": "code",
      "source": [
        "# count of ingredients per recipe (sum of 1s per row)\n",
        "recipes['ingredient_count'] = ingredient_data.sum(axis=1)\n",
        "print(\"Ingredients per recipe stats:\")\n",
        "print(recipes['ingredient_count'].describe())"
      ],
      "metadata": {
        "colab": {
          "base_uri": "https://localhost:8080/"
        },
        "id": "YrUmidRm6IcV",
        "outputId": "a48426c7-613a-4246-b881-771d0bc3cafb"
      },
      "execution_count": 9,
      "outputs": [
        {
          "output_type": "stream",
          "name": "stdout",
          "text": [
            "Ingredients per recipe stats:\n",
            "count    20052.000000\n",
            "mean        12.197536\n",
            "std          5.058298\n",
            "min          1.000000\n",
            "25%          8.000000\n",
            "50%         11.000000\n",
            "75%         16.000000\n",
            "max         37.000000\n",
            "Name: ingredient_count, dtype: float64\n"
          ]
        }
      ]
    },
    {
      "cell_type": "markdown",
      "source": [
        "### Problem Definition and Initial Data Exploration"
      ],
      "metadata": {
        "id": "5xKNdZPA6eTi"
      }
    },
    {
      "cell_type": "markdown",
      "source": [
        "#### Problem Definition\n",
        "\n",
        "- **Input:** List of ingredients that the user currently has.  \n",
        "- **Output:** List of best matching recipes ranked by ingredient relevance and quality metrics such as rating and nutritional information.  \n",
        "- **Goal:** To recommend realistic and high-quality recipes that the user can prepare based on their available ingredients, ensuring good user satisfaction.\n"
      ],
      "metadata": {
        "id": "Abt1fSQU6wvZ"
      }
    },
    {
      "cell_type": "markdown",
      "source": [
        "#### Data Exploration & Cleaning"
      ],
      "metadata": {
        "id": "zfS26V5566YR"
      }
    },
    {
      "cell_type": "code",
      "source": [
        "# 1. Check missing values in key columns\n",
        "print(\"Missing values in key columns:\")\n",
        "print(recipes[['rating', 'calories', 'protein', 'fat', 'sodium']].isnull().sum())\n"
      ],
      "metadata": {
        "colab": {
          "base_uri": "https://localhost:8080/"
        },
        "id": "FWG5UzaB6KR3",
        "outputId": "ef9e1584-9952-4e9b-a9c9-40f34e79313b"
      },
      "execution_count": 10,
      "outputs": [
        {
          "output_type": "stream",
          "name": "stdout",
          "text": [
            "Missing values in key columns:\n",
            "rating         0\n",
            "calories    4117\n",
            "protein     4162\n",
            "fat         4183\n",
            "sodium      4119\n",
            "dtype: int64\n"
          ]
        }
      ]
    },
    {
      "cell_type": "code",
      "source": [
        "\n",
        "# 2. Fill missing ratings with median rating\n",
        "median_rating = recipes['rating'].median()\n",
        "recipes['rating'] = recipes['rating'].fillna(median_rating)\n",
        "print(f\"Filled missing ratings with median value: {median_rating}\")\n",
        "\n"
      ],
      "metadata": {
        "colab": {
          "base_uri": "https://localhost:8080/"
        },
        "id": "rALfmngq7FI8",
        "outputId": "99f86523-7e4f-4329-c011-2c7ba496468c"
      },
      "execution_count": 11,
      "outputs": [
        {
          "output_type": "stream",
          "name": "stdout",
          "text": [
            "Filled missing ratings with median value: 4.375\n"
          ]
        }
      ]
    },
    {
      "cell_type": "code",
      "source": [
        "\n",
        "# 3. Ingredient columns identification\n",
        "metadata_cols = ['title', 'rating', 'calories', 'protein', 'fat', 'sodium']\n",
        "ingredient_cols = [col for col in recipes.columns if col not in metadata_cols]\n",
        "\n"
      ],
      "metadata": {
        "id": "gHdHRBiW7Hyv"
      },
      "execution_count": 12,
      "outputs": []
    },
    {
      "cell_type": "code",
      "source": [
        "# 4. Ingredient distribution: sum across recipes (how common each ingredient is)\n",
        "ingredient_counts = recipes[ingredient_cols].sum().sort_values(ascending=False)\n",
        "print(\"\\nTop 10 most common ingredients:\")\n",
        "print(ingredient_counts.head(10))\n",
        "\n",
        "print(\"\\nTop 10 rarest ingredients:\")\n",
        "print(ingredient_counts.tail(10))\n",
        "\n"
      ],
      "metadata": {
        "colab": {
          "base_uri": "https://localhost:8080/"
        },
        "id": "fBcUmoLz7Jmd",
        "outputId": "ef0050c4-69ad-4334-83c3-a5d0254f2e37"
      },
      "execution_count": 13,
      "outputs": [
        {
          "output_type": "stream",
          "name": "stdout",
          "text": [
            "\n",
            "Top 10 most common ingredients:\n",
            "ingredient_count    244585.0\n",
            "bon appétit           9355.0\n",
            "peanut free           8390.0\n",
            "soy free              8088.0\n",
            "tree nut free         7044.0\n",
            "vegetarian            6846.0\n",
            "gourmet               6648.0\n",
            "kosher                6175.0\n",
            "pescatarian           6042.0\n",
            "quick & easy          5372.0\n",
            "dtype: float64\n",
            "\n",
            "Top 10 rarest ingredients:\n",
            "cr��me de cacao      1.0\n",
            "dorie greenspan      1.0\n",
            "costa mesa           1.0\n",
            "camping              1.0\n",
            "bulgaria             1.0\n",
            "caviar               1.0\n",
            "crêpe                1.0\n",
            "burrito              1.0\n",
            "beverly hills        1.0\n",
            "tested & improved    1.0\n",
            "dtype: float64\n"
          ]
        }
      ]
    },
    {
      "cell_type": "code",
      "source": [
        "# 5. Rating distribution\n",
        "print(\"\\nRating statistics:\")\n",
        "print(recipes['rating'].describe())\n",
        "\n"
      ],
      "metadata": {
        "colab": {
          "base_uri": "https://localhost:8080/"
        },
        "id": "LABEm3zA7LpW",
        "outputId": "367fc115-ce52-405f-a187-6ac3d547baa7"
      },
      "execution_count": 14,
      "outputs": [
        {
          "output_type": "stream",
          "name": "stdout",
          "text": [
            "\n",
            "Rating statistics:\n",
            "count    20052.000000\n",
            "mean         3.714467\n",
            "std          1.340829\n",
            "min          0.000000\n",
            "25%          3.750000\n",
            "50%          4.375000\n",
            "75%          4.375000\n",
            "max          5.000000\n",
            "Name: rating, dtype: float64\n"
          ]
        }
      ]
    },
    {
      "cell_type": "code",
      "source": [
        "# 6. Calories distribution\n",
        "print(\"\\nCalories statistics:\")\n",
        "print(recipes['calories'].describe())\n",
        "\n"
      ],
      "metadata": {
        "colab": {
          "base_uri": "https://localhost:8080/"
        },
        "id": "s9_DuNnE7QUv",
        "outputId": "360879e5-fb09-45a5-ce66-88e8d3d61773"
      },
      "execution_count": 15,
      "outputs": [
        {
          "output_type": "stream",
          "name": "stdout",
          "text": [
            "\n",
            "Calories statistics:\n",
            "count    1.593500e+04\n",
            "mean     6.322958e+03\n",
            "std      3.590460e+05\n",
            "min      0.000000e+00\n",
            "25%      1.980000e+02\n",
            "50%      3.310000e+02\n",
            "75%      5.860000e+02\n",
            "max      3.011122e+07\n",
            "Name: calories, dtype: float64\n"
          ]
        }
      ]
    },
    {
      "cell_type": "code",
      "source": [
        "# 7. Protein distribution\n",
        "print(\"\\nProtein statistics:\")\n",
        "print(recipes['protein'].describe())\n",
        "\n"
      ],
      "metadata": {
        "colab": {
          "base_uri": "https://localhost:8080/"
        },
        "id": "XASw3Q_87STv",
        "outputId": "7dee132d-5677-4253-8c66-0b4ce3e953ed"
      },
      "execution_count": 16,
      "outputs": [
        {
          "output_type": "stream",
          "name": "stdout",
          "text": [
            "\n",
            "Protein statistics:\n",
            "count     15890.000000\n",
            "mean        100.160793\n",
            "std        3840.318527\n",
            "min           0.000000\n",
            "25%           3.000000\n",
            "50%           8.000000\n",
            "75%          27.000000\n",
            "max      236489.000000\n",
            "Name: protein, dtype: float64\n"
          ]
        }
      ]
    },
    {
      "cell_type": "code",
      "source": [
        "# 8. Fat distribution\n",
        "print(\"\\nFat statistics:\")\n",
        "print(recipes['fat'].describe())\n"
      ],
      "metadata": {
        "colab": {
          "base_uri": "https://localhost:8080/"
        },
        "id": "Y27Rnk427UMO",
        "outputId": "f62017c0-f2cc-4571-982f-9d8c3d40173a"
      },
      "execution_count": 17,
      "outputs": [
        {
          "output_type": "stream",
          "name": "stdout",
          "text": [
            "\n",
            "Fat statistics:\n",
            "count    1.586900e+04\n",
            "mean     3.468775e+02\n",
            "std      2.045611e+04\n",
            "min      0.000000e+00\n",
            "25%      7.000000e+00\n",
            "50%      1.700000e+01\n",
            "75%      3.300000e+01\n",
            "max      1.722763e+06\n",
            "Name: fat, dtype: float64\n"
          ]
        }
      ]
    },
    {
      "cell_type": "code",
      "source": [
        "\n",
        "# 9. Sodium distribution\n",
        "print(\"\\nSodium statistics:\")\n",
        "print(recipes['sodium'].describe())"
      ],
      "metadata": {
        "colab": {
          "base_uri": "https://localhost:8080/"
        },
        "id": "Vs426UxI7V9S",
        "outputId": "71ed1996-5620-4b4e-cce5-5f0c319fce07"
      },
      "execution_count": 18,
      "outputs": [
        {
          "output_type": "stream",
          "name": "stdout",
          "text": [
            "\n",
            "Sodium statistics:\n",
            "count    1.593300e+04\n",
            "mean     6.225975e+03\n",
            "std      3.333182e+05\n",
            "min      0.000000e+00\n",
            "25%      8.000000e+01\n",
            "50%      2.940000e+02\n",
            "75%      7.110000e+02\n",
            "max      2.767511e+07\n",
            "Name: sodium, dtype: float64\n"
          ]
        }
      ]
    },
    {
      "cell_type": "markdown",
      "source": [
        "### Feature Engineering"
      ],
      "metadata": {
        "id": "PxvHvPtB7k56"
      }
    },
    {
      "cell_type": "code",
      "source": [
        "import numpy as np\n",
        "\n",
        "# 1. Identify ingredient columns (exclude metadata)\n",
        "metadata_cols = ['title', 'rating', 'calories', 'protein', 'fat', 'sodium']\n",
        "non_ingredient_cols = [\n",
        "    'title', 'rating', 'calories', 'protein', 'fat', 'sodium',\n",
        "    '#cakeweek', '#wasteless', '22-minute meals', '3-ingredient recipes',\n",
        "    'bon appétit', 'gourmet', 'winter', 'soup/stew', 'sauté', 'easy',\n",
        "    'low-fat', 'dairy', 'pasta', 'pork', 'herb', 'blue cheese', 'vegetarian',\n",
        "    'vegan', 'snack', 'leftovers', 'cookbooks', 'weeknight'\n",
        "    # Add more as you find them\n",
        "]\n",
        "\n",
        "ingredient_cols = [col for col in recipes.columns if col not in non_ingredient_cols]\n",
        "\n",
        "print(f\"Number of ingredient columns: {len(ingredient_cols)}\")\n",
        "\n"
      ],
      "metadata": {
        "colab": {
          "base_uri": "https://localhost:8080/"
        },
        "id": "TKON8C1P7Wpb",
        "outputId": "89783aa6-7174-4c82-863d-3a5b8b984ef5"
      },
      "execution_count": 19,
      "outputs": [
        {
          "output_type": "stream",
          "name": "stdout",
          "text": [
            "Number of ingredient columns: 656\n"
          ]
        }
      ]
    },
    {
      "cell_type": "code",
      "source": [
        "# 2. Create 'total_ingredients' feature: Count of ingredients used in each recipe\n",
        "recipes['total_ingredients'] = recipes[ingredient_cols].sum(axis=1)\n",
        "\n",
        "# 3. Normalize nutritional info for scoring later (min-max scaling)\n",
        "def min_max_scale(series):\n",
        "    return (series - series.min()) / (series.max() - series.min())\n",
        "\n",
        "recipes['rating_norm'] = min_max_scale(recipes['rating'])\n",
        "recipes['calories_norm'] = min_max_scale(recipes['calories'].fillna(recipes['calories'].median()))\n",
        "recipes['protein_norm'] = min_max_scale(recipes['protein'].fillna(recipes['protein'].median()))\n",
        "recipes['fat_norm'] = min_max_scale(recipes['fat'].fillna(recipes['fat'].median()))\n",
        "recipes['sodium_norm'] = min_max_scale(recipes['sodium'].fillna(recipes['sodium'].median()))\n",
        "\n",
        "# 4. Create a 'health_score' combining nutrition metrics\n",
        "# higher protein good (+), lower calories, fat, sodium good (-)\n",
        "recipes['health_score'] = (recipes['protein_norm']) - (recipes['calories_norm'] + recipes['fat_norm'] + recipes['sodium_norm']) / 3\n",
        "# Normalize health_score to 0-1\n",
        "recipes['health_score_norm'] = min_max_scale(recipes['health_score'])\n",
        "\n",
        "# 5. Check feature summaries\n",
        "print(\"\\nFeature summaries:\")\n",
        "print(recipes[['total_ingredients', 'rating_norm', 'calories_norm', 'protein_norm', 'fat_norm', 'sodium_norm', 'health_score_norm']].describe())\n"
      ],
      "metadata": {
        "colab": {
          "base_uri": "https://localhost:8080/"
        },
        "id": "2HfmamZW7rCF",
        "outputId": "59db90cd-4107-426e-8c2d-a3ebf0d39ec1"
      },
      "execution_count": 20,
      "outputs": [
        {
          "output_type": "stream",
          "name": "stdout",
          "text": [
            "\n",
            "Feature summaries:\n",
            "       total_ingredients   rating_norm  calories_norm  protein_norm  \\\n",
            "count       20052.000000  20052.000000   20052.000000  20052.000000   \n",
            "mean           22.579593      0.742893       0.000169      0.000343   \n",
            "std             9.751953      0.268166       0.010630      0.014456   \n",
            "min             1.000000      0.000000       0.000000      0.000000   \n",
            "25%            15.000000      0.750000       0.000008      0.000017   \n",
            "50%            21.000000      0.875000       0.000011      0.000034   \n",
            "75%            30.000000      0.875000       0.000017      0.000080   \n",
            "max            72.000000      1.000000       1.000000      1.000000   \n",
            "\n",
            "           fat_norm   sodium_norm  health_score_norm  \n",
            "count  20052.000000  20052.000000       20052.000000  \n",
            "mean       0.000161      0.000181           0.146912  \n",
            "std        0.010563      0.010736           0.009553  \n",
            "min        0.000000      0.000000           0.000000  \n",
            "25%        0.000006      0.000004           0.146752  \n",
            "50%        0.000010      0.000011           0.146766  \n",
            "75%        0.000016      0.000021           0.146803  \n",
            "max        1.000000      1.000000           1.000000  \n"
          ]
        }
      ]
    },
    {
      "cell_type": "markdown",
      "source": [
        "### Recommendation Algorithm Design\n",
        "\n",
        "Our recommendation score combines three key components:\n",
        "\n",
        "1. **Ingredient Match Score:**  \n",
        "   The number of ingredients from the user's input that appear in a recipe.\n",
        "\n",
        "2. **Ingredient Coverage Ratio:**  \n",
        "   The proportion of the recipe’s required ingredients that are matched by the user’s input.  \n",
        "   (i.e., matched ingredients divided by total ingredients in the recipe)\n",
        "\n",
        "3. **Recipe Quality Score:**  \n",
        "   A normalized score based on recipe rating (and optionally nutrition).\n",
        "\n",
        "The combined scoring formula is:\n",
        "\n",
        "$$\n",
        "\\text{final_score} = \\alpha \\times \\text{ingredient_match_score} + \\beta \\times \\text{ingredient_coverage} + \\gamma \\times \\text{rating_score}\n",
        "$$\n",
        "\n",
        "Where $\\alpha, \\beta, and \\gamma$  are tunable weights to balance the importance of each component.\n",
        "\n"
      ],
      "metadata": {
        "id": "clYzEfFi8IbA"
      }
    },
    {
      "cell_type": "code",
      "source": [
        "def recommend_recipes(user_ingredients, df, alpha=0.6, beta=0.3, gamma=0.1, top_n=10):\n",
        "    # Filter valid ingredients from user input\n",
        "    valid_ingredients = [ing for ing in user_ingredients if ing in df.columns]\n",
        "    if not valid_ingredients:\n",
        "        return \"No valid ingredients found.\"\n",
        "\n",
        "    # Calculate ingredient match count per recipe\n",
        "    df['ingredient_match_count'] = df[valid_ingredients].sum(axis=1)\n",
        "\n",
        "    # Calculate ingredient coverage ratio\n",
        "    df['ingredient_coverage'] = df['ingredient_match_count'] / df['total_ingredients']\n",
        "\n",
        "    # Normalize rating (already done in feature engineering as rating_norm)\n",
        "    # Combine scores\n",
        "    df['final_score'] = (alpha * df['ingredient_match_count'] +\n",
        "                         beta * df['ingredient_coverage'] +\n",
        "                         gamma * df['rating_norm'])\n",
        "\n",
        "    # Filter recipes with at least one match\n",
        "    filtered_df = df[df['ingredient_match_count'] > 0]\n",
        "\n",
        "    # Sort and return top results\n",
        "    return filtered_df.sort_values(by='final_score', ascending=False).head(top_n)[\n",
        "        ['title', 'ingredient_match_count', 'ingredient_coverage', 'rating', 'final_score']\n",
        "    ]\n"
      ],
      "metadata": {
        "id": "EgqFwXdj7ym0"
      },
      "execution_count": 21,
      "outputs": []
    },
    {
      "cell_type": "code",
      "source": [
        "user_ingredients = ['tomato', 'cheese', 'basil', 'olive oil']\n",
        "recommendations = recommend_recipes(user_ingredients, recipes)\n",
        "print(recommendations)\n"
      ],
      "metadata": {
        "colab": {
          "base_uri": "https://localhost:8080/"
        },
        "id": "-Kok6Sc884a3",
        "outputId": "2d6f68f8-311d-47ed-ca81-8f68308be625"
      },
      "execution_count": 22,
      "outputs": [
        {
          "output_type": "stream",
          "name": "stdout",
          "text": [
            "                                                   title  \\\n",
            "8159                       Sausage and Cheese Manicotti    \n",
            "4022   Tomatoes Stuffed with Fresh Mozzarella and Basil    \n",
            "12326       Garlicky Eggplant, Tomato and Basil Bobolis    \n",
            "19527                       BA's Best Eggplant Parmesan    \n",
            "12814               Eggplant, Tomato, and Fontina Pizza    \n",
            "2189                Eggplant, Tomato, and Fontina Pizza    \n",
            "14746                  Roasted Yellow Pepper Bruschetta    \n",
            "7927   Grilled Pizza with Tomato, Mozzarella, and Basil    \n",
            "7996             Fusilli with Chère, Tomatoes and Basil    \n",
            "7807        Eggplant, Tomato and Goat Cheese Sandwiches    \n",
            "\n",
            "       ingredient_match_count  ingredient_coverage  rating  final_score  \n",
            "8159                      3.0             0.200000   4.375     1.947500  \n",
            "4022                      3.0             0.187500   4.375     1.943750  \n",
            "12326                     3.0             0.166667   4.375     1.937500  \n",
            "19527                     3.0             0.166667   4.375     1.937500  \n",
            "12814                     3.0             0.166667   4.375     1.937500  \n",
            "2189                      3.0             0.166667   4.375     1.937500  \n",
            "14746                     3.0             0.166667   4.375     1.937500  \n",
            "7927                      3.0             0.200000   3.750     1.935000  \n",
            "7996                      3.0             0.157895   4.375     1.934868  \n",
            "7807                      3.0             0.150000   4.375     1.932500  \n"
          ]
        }
      ]
    },
    {
      "cell_type": "code",
      "source": [
        "for i, row in recommendations.iterrows():\n",
        "    print(f\"{i+1}. {row['title']} - Score: {row['final_score']:.3f}, Matched Ingredients: {int(row['ingredient_match_count'])}, Coverage: {row['ingredient_coverage']:.2%}, Rating: {row['rating']}\")\n"
      ],
      "metadata": {
        "colab": {
          "base_uri": "https://localhost:8080/"
        },
        "id": "MskAMHAo86xM",
        "outputId": "045472f4-9966-452f-8465-23afaec931f7"
      },
      "execution_count": 23,
      "outputs": [
        {
          "output_type": "stream",
          "name": "stdout",
          "text": [
            "8160. Sausage and Cheese Manicotti  - Score: 1.947, Matched Ingredients: 3, Coverage: 20.00%, Rating: 4.375\n",
            "4023. Tomatoes Stuffed with Fresh Mozzarella and Basil  - Score: 1.944, Matched Ingredients: 3, Coverage: 18.75%, Rating: 4.375\n",
            "12327. Garlicky Eggplant, Tomato and Basil Bobolis  - Score: 1.937, Matched Ingredients: 3, Coverage: 16.67%, Rating: 4.375\n",
            "19528. BA's Best Eggplant Parmesan  - Score: 1.937, Matched Ingredients: 3, Coverage: 16.67%, Rating: 4.375\n",
            "12815. Eggplant, Tomato, and Fontina Pizza  - Score: 1.937, Matched Ingredients: 3, Coverage: 16.67%, Rating: 4.375\n",
            "2190. Eggplant, Tomato, and Fontina Pizza  - Score: 1.937, Matched Ingredients: 3, Coverage: 16.67%, Rating: 4.375\n",
            "14747. Roasted Yellow Pepper Bruschetta  - Score: 1.937, Matched Ingredients: 3, Coverage: 16.67%, Rating: 4.375\n",
            "7928. Grilled Pizza with Tomato, Mozzarella, and Basil  - Score: 1.935, Matched Ingredients: 3, Coverage: 20.00%, Rating: 3.75\n",
            "7997. Fusilli with Chère, Tomatoes and Basil  - Score: 1.935, Matched Ingredients: 3, Coverage: 15.79%, Rating: 4.375\n",
            "7808. Eggplant, Tomato and Goat Cheese Sandwiches  - Score: 1.932, Matched Ingredients: 3, Coverage: 15.00%, Rating: 4.375\n"
          ]
        }
      ]
    },
    {
      "cell_type": "markdown",
      "source": [
        "### Evaluation & Tuning"
      ],
      "metadata": {
        "id": "FlNjKyKN9tzF"
      }
    },
    {
      "cell_type": "code",
      "source": [
        "def evaluate_recommendations(user_ingredients, df, alpha, beta, gamma, top_n=10):\n",
        "    recs = recommend_recipes(user_ingredients, df, alpha, beta, gamma, top_n)\n",
        "    if recs.empty:\n",
        "        print(\"No recommendations found.\")\n",
        "        return None\n",
        "    avg_rating = recs['rating'].mean()\n",
        "    avg_coverage = recs['ingredient_coverage'].mean()\n",
        "    print(f\"Average rating of top {top_n} recommendations: {avg_rating:.2f}\")\n",
        "    print(f\"Average ingredient coverage: {avg_coverage:.2%}\")\n",
        "    return recs\n",
        "\n",
        "# Example evaluation with ingredients\n",
        "evaluate_recommendations(['chicken', 'garlic', 'onion'], recipes, alpha=0.6, beta=0.3, gamma=0.1)\n",
        "\n"
      ],
      "metadata": {
        "colab": {
          "base_uri": "https://localhost:8080/",
          "height": 397
        },
        "id": "uSM-uCaa9QaE",
        "outputId": "aa5eb481-854c-4c18-e7d9-6e6933b4ea97"
      },
      "execution_count": 24,
      "outputs": [
        {
          "output_type": "stream",
          "name": "stdout",
          "text": [
            "Average rating of top 10 recommendations: 4.44\n",
            "Average ingredient coverage: 17.68%\n"
          ]
        },
        {
          "output_type": "execute_result",
          "data": {
            "text/plain": [
              "                                                   title  \\\n",
              "9725     Chicken with Tomatillo Sauce and Braised Fruit    \n",
              "1626   Tofu, Fried, with Pork and Black-Bean Sauce (P...   \n",
              "7856                    Braised Lamb Shanks with Prunes    \n",
              "6760   Chicken Fricassée with Creamy Sweet-and-Sour D...   \n",
              "7697                                  Brooklyn Feijoada    \n",
              "7693                        Chicken and Cashew Stir-Fry    \n",
              "13764  Noodle Soup with Soy-Cooked Pork (Slack Season...   \n",
              "15088                        Chicken and Artichoke Stew    \n",
              "11453                             Pollo en Pipian Verde    \n",
              "5685                             Smoked Chicken Chowder    \n",
              "\n",
              "       ingredient_match_count  ingredient_coverage  rating  final_score  \n",
              "9725                      3.0             0.230769   4.375     1.956731  \n",
              "1626                      3.0             0.187500   5.000     1.956250  \n",
              "7856                      3.0             0.157895   5.000     1.947368  \n",
              "6760                      3.0             0.230769   3.750     1.944231  \n",
              "7697                      3.0             0.187500   4.375     1.943750  \n",
              "7693                      3.0             0.157895   4.375     1.934868  \n",
              "13764                     3.0             0.157895   4.375     1.934868  \n",
              "15088                     3.0             0.157895   4.375     1.934868  \n",
              "11453                     3.0             0.150000   4.375     1.932500  \n",
              "5685                      3.0             0.150000   4.375     1.932500  "
            ],
            "text/html": [
              "\n",
              "  <div id=\"df-d2267f4e-823e-4b86-9f93-ad508d94d12b\" class=\"colab-df-container\">\n",
              "    <div>\n",
              "<style scoped>\n",
              "    .dataframe tbody tr th:only-of-type {\n",
              "        vertical-align: middle;\n",
              "    }\n",
              "\n",
              "    .dataframe tbody tr th {\n",
              "        vertical-align: top;\n",
              "    }\n",
              "\n",
              "    .dataframe thead th {\n",
              "        text-align: right;\n",
              "    }\n",
              "</style>\n",
              "<table border=\"1\" class=\"dataframe\">\n",
              "  <thead>\n",
              "    <tr style=\"text-align: right;\">\n",
              "      <th></th>\n",
              "      <th>title</th>\n",
              "      <th>ingredient_match_count</th>\n",
              "      <th>ingredient_coverage</th>\n",
              "      <th>rating</th>\n",
              "      <th>final_score</th>\n",
              "    </tr>\n",
              "  </thead>\n",
              "  <tbody>\n",
              "    <tr>\n",
              "      <th>9725</th>\n",
              "      <td>Chicken with Tomatillo Sauce and Braised Fruit</td>\n",
              "      <td>3.0</td>\n",
              "      <td>0.230769</td>\n",
              "      <td>4.375</td>\n",
              "      <td>1.956731</td>\n",
              "    </tr>\n",
              "    <tr>\n",
              "      <th>1626</th>\n",
              "      <td>Tofu, Fried, with Pork and Black-Bean Sauce (P...</td>\n",
              "      <td>3.0</td>\n",
              "      <td>0.187500</td>\n",
              "      <td>5.000</td>\n",
              "      <td>1.956250</td>\n",
              "    </tr>\n",
              "    <tr>\n",
              "      <th>7856</th>\n",
              "      <td>Braised Lamb Shanks with Prunes</td>\n",
              "      <td>3.0</td>\n",
              "      <td>0.157895</td>\n",
              "      <td>5.000</td>\n",
              "      <td>1.947368</td>\n",
              "    </tr>\n",
              "    <tr>\n",
              "      <th>6760</th>\n",
              "      <td>Chicken Fricassée with Creamy Sweet-and-Sour D...</td>\n",
              "      <td>3.0</td>\n",
              "      <td>0.230769</td>\n",
              "      <td>3.750</td>\n",
              "      <td>1.944231</td>\n",
              "    </tr>\n",
              "    <tr>\n",
              "      <th>7697</th>\n",
              "      <td>Brooklyn Feijoada</td>\n",
              "      <td>3.0</td>\n",
              "      <td>0.187500</td>\n",
              "      <td>4.375</td>\n",
              "      <td>1.943750</td>\n",
              "    </tr>\n",
              "    <tr>\n",
              "      <th>7693</th>\n",
              "      <td>Chicken and Cashew Stir-Fry</td>\n",
              "      <td>3.0</td>\n",
              "      <td>0.157895</td>\n",
              "      <td>4.375</td>\n",
              "      <td>1.934868</td>\n",
              "    </tr>\n",
              "    <tr>\n",
              "      <th>13764</th>\n",
              "      <td>Noodle Soup with Soy-Cooked Pork (Slack Season...</td>\n",
              "      <td>3.0</td>\n",
              "      <td>0.157895</td>\n",
              "      <td>4.375</td>\n",
              "      <td>1.934868</td>\n",
              "    </tr>\n",
              "    <tr>\n",
              "      <th>15088</th>\n",
              "      <td>Chicken and Artichoke Stew</td>\n",
              "      <td>3.0</td>\n",
              "      <td>0.157895</td>\n",
              "      <td>4.375</td>\n",
              "      <td>1.934868</td>\n",
              "    </tr>\n",
              "    <tr>\n",
              "      <th>11453</th>\n",
              "      <td>Pollo en Pipian Verde</td>\n",
              "      <td>3.0</td>\n",
              "      <td>0.150000</td>\n",
              "      <td>4.375</td>\n",
              "      <td>1.932500</td>\n",
              "    </tr>\n",
              "    <tr>\n",
              "      <th>5685</th>\n",
              "      <td>Smoked Chicken Chowder</td>\n",
              "      <td>3.0</td>\n",
              "      <td>0.150000</td>\n",
              "      <td>4.375</td>\n",
              "      <td>1.932500</td>\n",
              "    </tr>\n",
              "  </tbody>\n",
              "</table>\n",
              "</div>\n",
              "    <div class=\"colab-df-buttons\">\n",
              "\n",
              "  <div class=\"colab-df-container\">\n",
              "    <button class=\"colab-df-convert\" onclick=\"convertToInteractive('df-d2267f4e-823e-4b86-9f93-ad508d94d12b')\"\n",
              "            title=\"Convert this dataframe to an interactive table.\"\n",
              "            style=\"display:none;\">\n",
              "\n",
              "  <svg xmlns=\"http://www.w3.org/2000/svg\" height=\"24px\" viewBox=\"0 -960 960 960\">\n",
              "    <path d=\"M120-120v-720h720v720H120Zm60-500h600v-160H180v160Zm220 220h160v-160H400v160Zm0 220h160v-160H400v160ZM180-400h160v-160H180v160Zm440 0h160v-160H620v160ZM180-180h160v-160H180v160Zm440 0h160v-160H620v160Z\"/>\n",
              "  </svg>\n",
              "    </button>\n",
              "\n",
              "  <style>\n",
              "    .colab-df-container {\n",
              "      display:flex;\n",
              "      gap: 12px;\n",
              "    }\n",
              "\n",
              "    .colab-df-convert {\n",
              "      background-color: #E8F0FE;\n",
              "      border: none;\n",
              "      border-radius: 50%;\n",
              "      cursor: pointer;\n",
              "      display: none;\n",
              "      fill: #1967D2;\n",
              "      height: 32px;\n",
              "      padding: 0 0 0 0;\n",
              "      width: 32px;\n",
              "    }\n",
              "\n",
              "    .colab-df-convert:hover {\n",
              "      background-color: #E2EBFA;\n",
              "      box-shadow: 0px 1px 2px rgba(60, 64, 67, 0.3), 0px 1px 3px 1px rgba(60, 64, 67, 0.15);\n",
              "      fill: #174EA6;\n",
              "    }\n",
              "\n",
              "    .colab-df-buttons div {\n",
              "      margin-bottom: 4px;\n",
              "    }\n",
              "\n",
              "    [theme=dark] .colab-df-convert {\n",
              "      background-color: #3B4455;\n",
              "      fill: #D2E3FC;\n",
              "    }\n",
              "\n",
              "    [theme=dark] .colab-df-convert:hover {\n",
              "      background-color: #434B5C;\n",
              "      box-shadow: 0px 1px 3px 1px rgba(0, 0, 0, 0.15);\n",
              "      filter: drop-shadow(0px 1px 2px rgba(0, 0, 0, 0.3));\n",
              "      fill: #FFFFFF;\n",
              "    }\n",
              "  </style>\n",
              "\n",
              "    <script>\n",
              "      const buttonEl =\n",
              "        document.querySelector('#df-d2267f4e-823e-4b86-9f93-ad508d94d12b button.colab-df-convert');\n",
              "      buttonEl.style.display =\n",
              "        google.colab.kernel.accessAllowed ? 'block' : 'none';\n",
              "\n",
              "      async function convertToInteractive(key) {\n",
              "        const element = document.querySelector('#df-d2267f4e-823e-4b86-9f93-ad508d94d12b');\n",
              "        const dataTable =\n",
              "          await google.colab.kernel.invokeFunction('convertToInteractive',\n",
              "                                                    [key], {});\n",
              "        if (!dataTable) return;\n",
              "\n",
              "        const docLinkHtml = 'Like what you see? Visit the ' +\n",
              "          '<a target=\"_blank\" href=https://colab.research.google.com/notebooks/data_table.ipynb>data table notebook</a>'\n",
              "          + ' to learn more about interactive tables.';\n",
              "        element.innerHTML = '';\n",
              "        dataTable['output_type'] = 'display_data';\n",
              "        await google.colab.output.renderOutput(dataTable, element);\n",
              "        const docLink = document.createElement('div');\n",
              "        docLink.innerHTML = docLinkHtml;\n",
              "        element.appendChild(docLink);\n",
              "      }\n",
              "    </script>\n",
              "  </div>\n",
              "\n",
              "\n",
              "    <div id=\"df-c1ff2ad3-a618-4475-b574-5323c9a17100\">\n",
              "      <button class=\"colab-df-quickchart\" onclick=\"quickchart('df-c1ff2ad3-a618-4475-b574-5323c9a17100')\"\n",
              "                title=\"Suggest charts\"\n",
              "                style=\"display:none;\">\n",
              "\n",
              "<svg xmlns=\"http://www.w3.org/2000/svg\" height=\"24px\"viewBox=\"0 0 24 24\"\n",
              "     width=\"24px\">\n",
              "    <g>\n",
              "        <path d=\"M19 3H5c-1.1 0-2 .9-2 2v14c0 1.1.9 2 2 2h14c1.1 0 2-.9 2-2V5c0-1.1-.9-2-2-2zM9 17H7v-7h2v7zm4 0h-2V7h2v10zm4 0h-2v-4h2v4z\"/>\n",
              "    </g>\n",
              "</svg>\n",
              "      </button>\n",
              "\n",
              "<style>\n",
              "  .colab-df-quickchart {\n",
              "      --bg-color: #E8F0FE;\n",
              "      --fill-color: #1967D2;\n",
              "      --hover-bg-color: #E2EBFA;\n",
              "      --hover-fill-color: #174EA6;\n",
              "      --disabled-fill-color: #AAA;\n",
              "      --disabled-bg-color: #DDD;\n",
              "  }\n",
              "\n",
              "  [theme=dark] .colab-df-quickchart {\n",
              "      --bg-color: #3B4455;\n",
              "      --fill-color: #D2E3FC;\n",
              "      --hover-bg-color: #434B5C;\n",
              "      --hover-fill-color: #FFFFFF;\n",
              "      --disabled-bg-color: #3B4455;\n",
              "      --disabled-fill-color: #666;\n",
              "  }\n",
              "\n",
              "  .colab-df-quickchart {\n",
              "    background-color: var(--bg-color);\n",
              "    border: none;\n",
              "    border-radius: 50%;\n",
              "    cursor: pointer;\n",
              "    display: none;\n",
              "    fill: var(--fill-color);\n",
              "    height: 32px;\n",
              "    padding: 0;\n",
              "    width: 32px;\n",
              "  }\n",
              "\n",
              "  .colab-df-quickchart:hover {\n",
              "    background-color: var(--hover-bg-color);\n",
              "    box-shadow: 0 1px 2px rgba(60, 64, 67, 0.3), 0 1px 3px 1px rgba(60, 64, 67, 0.15);\n",
              "    fill: var(--button-hover-fill-color);\n",
              "  }\n",
              "\n",
              "  .colab-df-quickchart-complete:disabled,\n",
              "  .colab-df-quickchart-complete:disabled:hover {\n",
              "    background-color: var(--disabled-bg-color);\n",
              "    fill: var(--disabled-fill-color);\n",
              "    box-shadow: none;\n",
              "  }\n",
              "\n",
              "  .colab-df-spinner {\n",
              "    border: 2px solid var(--fill-color);\n",
              "    border-color: transparent;\n",
              "    border-bottom-color: var(--fill-color);\n",
              "    animation:\n",
              "      spin 1s steps(1) infinite;\n",
              "  }\n",
              "\n",
              "  @keyframes spin {\n",
              "    0% {\n",
              "      border-color: transparent;\n",
              "      border-bottom-color: var(--fill-color);\n",
              "      border-left-color: var(--fill-color);\n",
              "    }\n",
              "    20% {\n",
              "      border-color: transparent;\n",
              "      border-left-color: var(--fill-color);\n",
              "      border-top-color: var(--fill-color);\n",
              "    }\n",
              "    30% {\n",
              "      border-color: transparent;\n",
              "      border-left-color: var(--fill-color);\n",
              "      border-top-color: var(--fill-color);\n",
              "      border-right-color: var(--fill-color);\n",
              "    }\n",
              "    40% {\n",
              "      border-color: transparent;\n",
              "      border-right-color: var(--fill-color);\n",
              "      border-top-color: var(--fill-color);\n",
              "    }\n",
              "    60% {\n",
              "      border-color: transparent;\n",
              "      border-right-color: var(--fill-color);\n",
              "    }\n",
              "    80% {\n",
              "      border-color: transparent;\n",
              "      border-right-color: var(--fill-color);\n",
              "      border-bottom-color: var(--fill-color);\n",
              "    }\n",
              "    90% {\n",
              "      border-color: transparent;\n",
              "      border-bottom-color: var(--fill-color);\n",
              "    }\n",
              "  }\n",
              "</style>\n",
              "\n",
              "      <script>\n",
              "        async function quickchart(key) {\n",
              "          const quickchartButtonEl =\n",
              "            document.querySelector('#' + key + ' button');\n",
              "          quickchartButtonEl.disabled = true;  // To prevent multiple clicks.\n",
              "          quickchartButtonEl.classList.add('colab-df-spinner');\n",
              "          try {\n",
              "            const charts = await google.colab.kernel.invokeFunction(\n",
              "                'suggestCharts', [key], {});\n",
              "          } catch (error) {\n",
              "            console.error('Error during call to suggestCharts:', error);\n",
              "          }\n",
              "          quickchartButtonEl.classList.remove('colab-df-spinner');\n",
              "          quickchartButtonEl.classList.add('colab-df-quickchart-complete');\n",
              "        }\n",
              "        (() => {\n",
              "          let quickchartButtonEl =\n",
              "            document.querySelector('#df-c1ff2ad3-a618-4475-b574-5323c9a17100 button');\n",
              "          quickchartButtonEl.style.display =\n",
              "            google.colab.kernel.accessAllowed ? 'block' : 'none';\n",
              "        })();\n",
              "      </script>\n",
              "    </div>\n",
              "\n",
              "    </div>\n",
              "  </div>\n"
            ],
            "application/vnd.google.colaboratory.intrinsic+json": {
              "type": "dataframe",
              "summary": "{\n  \"name\": \"evaluate_recommendations(['chicken', 'garlic', 'onion'], recipes, alpha=0\",\n  \"rows\": 10,\n  \"fields\": [\n    {\n      \"column\": \"title\",\n      \"properties\": {\n        \"dtype\": \"string\",\n        \"num_unique_values\": 10,\n        \"samples\": [\n          \"Pollo en Pipian Verde \",\n          \"Tofu, Fried, with Pork and Black-Bean Sauce (Peng's Home-Style Bean Curd) \",\n          \"Chicken and Cashew Stir-Fry \"\n        ],\n        \"semantic_type\": \"\",\n        \"description\": \"\"\n      }\n    },\n    {\n      \"column\": \"ingredient_match_count\",\n      \"properties\": {\n        \"dtype\": \"number\",\n        \"std\": 0.0,\n        \"min\": 3.0,\n        \"max\": 3.0,\n        \"num_unique_values\": 1,\n        \"samples\": [\n          3.0\n        ],\n        \"semantic_type\": \"\",\n        \"description\": \"\"\n      }\n    },\n    {\n      \"column\": \"ingredient_coverage\",\n      \"properties\": {\n        \"dtype\": \"number\",\n        \"std\": 0.03148271176629563,\n        \"min\": 0.15,\n        \"max\": 0.23076923076923078,\n        \"num_unique_values\": 4,\n        \"samples\": [\n          0.1875\n        ],\n        \"semantic_type\": \"\",\n        \"description\": \"\"\n      }\n    },\n    {\n      \"column\": \"rating\",\n      \"properties\": {\n        \"dtype\": \"number\",\n        \"std\": 0.3547788826234667,\n        \"min\": 3.75,\n        \"max\": 5.0,\n        \"num_unique_values\": 3,\n        \"samples\": [\n          4.375\n        ],\n        \"semantic_type\": \"\",\n        \"description\": \"\"\n      }\n    },\n    {\n      \"column\": \"final_score\",\n      \"properties\": {\n        \"dtype\": \"number\",\n        \"std\": 0.009366422075072925,\n        \"min\": 1.9324999999999997,\n        \"max\": 1.956730769230769,\n        \"num_unique_values\": 7,\n        \"samples\": [\n          1.956730769230769\n        ],\n        \"semantic_type\": \"\",\n        \"description\": \"\"\n      }\n    }\n  ]\n}"
            }
          },
          "metadata": {},
          "execution_count": 24
        }
      ]
    },
    {
      "cell_type": "code",
      "source": [
        "from itertools import combinations\n",
        "\n",
        "def recommend_with_subsets(user_ingredients, df, min_match=1, max_missing=1, alpha=0.6, beta=0.3, gamma=0.1, top_n=10):\n",
        "    pantry_ingredients = ['water', 'oil', 'salt', 'pepper']\n",
        "    pantry_cols = [ing for ing in pantry_ingredients if ing in df.columns]\n",
        "\n",
        "    results = pd.DataFrame()\n",
        "\n",
        "    # To avoid duplicates, keep a set of seen recipe indices\n",
        "    seen_indices = set()\n",
        "\n",
        "    # Check subsets from largest to smallest (to prioritize bigger matches)\n",
        "    for r in range(len(user_ingredients), min_match-1, -1):\n",
        "        for subset in combinations(user_ingredients, r):\n",
        "            valid_ingredients = [ing for ing in subset if ing in df.columns]\n",
        "            if not valid_ingredients:\n",
        "                continue\n",
        "\n",
        "            temp_df = df.copy()\n",
        "            temp_df['ingredient_match_count'] = temp_df[valid_ingredients].sum(axis=1)\n",
        "            temp_df['pantry_ingredient_count'] = temp_df[pantry_cols].sum(axis=1) if pantry_cols else 0\n",
        "            temp_df['missing_ingredients'] = temp_df['total_ingredients'] - temp_df['ingredient_match_count'] - temp_df['pantry_ingredient_count']\n",
        "\n",
        "            filtered_df = temp_df[temp_df['missing_ingredients'] <= max_missing]\n",
        "\n",
        "            filtered_df['ingredient_coverage'] = filtered_df['ingredient_match_count'] / filtered_df['total_ingredients']\n",
        "            filtered_df['final_score'] = (alpha * filtered_df['ingredient_match_count'] +\n",
        "                                         beta * filtered_df['ingredient_coverage'] +\n",
        "                                         gamma * filtered_df['rating_norm'])\n",
        "\n",
        "            # Exclude recipes already seen\n",
        "            filtered_df = filtered_df[~filtered_df.index.isin(seen_indices)]\n",
        "\n",
        "            # Keep track of indices to avoid duplicates\n",
        "            seen_indices.update(filtered_df.index)\n",
        "\n",
        "            results = pd.concat([results, filtered_df])\n",
        "\n",
        "    # Sort final combined results by final_score descending and get top_n\n",
        "    results_sorted = results.sort_values('final_score', ascending=False).head(top_n)\n",
        "\n",
        "    return results_sorted[['title', 'ingredient_match_count', 'missing_ingredients', 'ingredient_coverage', 'rating', 'final_score']]\n"
      ],
      "metadata": {
        "id": "3WPveXVs977u"
      },
      "execution_count": 25,
      "outputs": []
    },
    {
      "cell_type": "code",
      "source": [
        "user_ingredients = ['onion', 'chicken', 'garlic', 'tomatoes']\n",
        "recommendations = recommend_with_subsets(user_ingredients, recipes, min_match=1, max_missing=1, top_n=10)\n",
        "print(recommendations)\n"
      ],
      "metadata": {
        "colab": {
          "base_uri": "https://localhost:8080/"
        },
        "id": "KOSVWVu1_SKc",
        "outputId": "5aa1bbc1-b8c0-4eff-ed15-b6e8b791072c"
      },
      "execution_count": 26,
      "outputs": [
        {
          "output_type": "stream",
          "name": "stderr",
          "text": [
            "<ipython-input-25-61b8905cdf1d>:26: SettingWithCopyWarning: \n",
            "A value is trying to be set on a copy of a slice from a DataFrame.\n",
            "Try using .loc[row_indexer,col_indexer] = value instead\n",
            "\n",
            "See the caveats in the documentation: https://pandas.pydata.org/pandas-docs/stable/user_guide/indexing.html#returning-a-view-versus-a-copy\n",
            "  filtered_df['ingredient_coverage'] = filtered_df['ingredient_match_count'] / filtered_df['total_ingredients']\n",
            "<ipython-input-25-61b8905cdf1d>:27: SettingWithCopyWarning: \n",
            "A value is trying to be set on a copy of a slice from a DataFrame.\n",
            "Try using .loc[row_indexer,col_indexer] = value instead\n",
            "\n",
            "See the caveats in the documentation: https://pandas.pydata.org/pandas-docs/stable/user_guide/indexing.html#returning-a-view-versus-a-copy\n",
            "  filtered_df['final_score'] = (alpha * filtered_df['ingredient_match_count'] +\n",
            "<ipython-input-25-61b8905cdf1d>:26: SettingWithCopyWarning: \n",
            "A value is trying to be set on a copy of a slice from a DataFrame.\n",
            "Try using .loc[row_indexer,col_indexer] = value instead\n",
            "\n",
            "See the caveats in the documentation: https://pandas.pydata.org/pandas-docs/stable/user_guide/indexing.html#returning-a-view-versus-a-copy\n",
            "  filtered_df['ingredient_coverage'] = filtered_df['ingredient_match_count'] / filtered_df['total_ingredients']\n",
            "<ipython-input-25-61b8905cdf1d>:27: SettingWithCopyWarning: \n",
            "A value is trying to be set on a copy of a slice from a DataFrame.\n",
            "Try using .loc[row_indexer,col_indexer] = value instead\n",
            "\n",
            "See the caveats in the documentation: https://pandas.pydata.org/pandas-docs/stable/user_guide/indexing.html#returning-a-view-versus-a-copy\n",
            "  filtered_df['final_score'] = (alpha * filtered_df['ingredient_match_count'] +\n",
            "<ipython-input-25-61b8905cdf1d>:26: SettingWithCopyWarning: \n",
            "A value is trying to be set on a copy of a slice from a DataFrame.\n",
            "Try using .loc[row_indexer,col_indexer] = value instead\n",
            "\n",
            "See the caveats in the documentation: https://pandas.pydata.org/pandas-docs/stable/user_guide/indexing.html#returning-a-view-versus-a-copy\n",
            "  filtered_df['ingredient_coverage'] = filtered_df['ingredient_match_count'] / filtered_df['total_ingredients']\n",
            "<ipython-input-25-61b8905cdf1d>:27: SettingWithCopyWarning: \n",
            "A value is trying to be set on a copy of a slice from a DataFrame.\n",
            "Try using .loc[row_indexer,col_indexer] = value instead\n",
            "\n",
            "See the caveats in the documentation: https://pandas.pydata.org/pandas-docs/stable/user_guide/indexing.html#returning-a-view-versus-a-copy\n",
            "  filtered_df['final_score'] = (alpha * filtered_df['ingredient_match_count'] +\n",
            "<ipython-input-25-61b8905cdf1d>:26: SettingWithCopyWarning: \n",
            "A value is trying to be set on a copy of a slice from a DataFrame.\n",
            "Try using .loc[row_indexer,col_indexer] = value instead\n",
            "\n",
            "See the caveats in the documentation: https://pandas.pydata.org/pandas-docs/stable/user_guide/indexing.html#returning-a-view-versus-a-copy\n",
            "  filtered_df['ingredient_coverage'] = filtered_df['ingredient_match_count'] / filtered_df['total_ingredients']\n",
            "<ipython-input-25-61b8905cdf1d>:27: SettingWithCopyWarning: \n",
            "A value is trying to be set on a copy of a slice from a DataFrame.\n",
            "Try using .loc[row_indexer,col_indexer] = value instead\n",
            "\n",
            "See the caveats in the documentation: https://pandas.pydata.org/pandas-docs/stable/user_guide/indexing.html#returning-a-view-versus-a-copy\n",
            "  filtered_df['final_score'] = (alpha * filtered_df['ingredient_match_count'] +\n",
            "<ipython-input-25-61b8905cdf1d>:26: SettingWithCopyWarning: \n",
            "A value is trying to be set on a copy of a slice from a DataFrame.\n",
            "Try using .loc[row_indexer,col_indexer] = value instead\n",
            "\n",
            "See the caveats in the documentation: https://pandas.pydata.org/pandas-docs/stable/user_guide/indexing.html#returning-a-view-versus-a-copy\n",
            "  filtered_df['ingredient_coverage'] = filtered_df['ingredient_match_count'] / filtered_df['total_ingredients']\n",
            "<ipython-input-25-61b8905cdf1d>:27: SettingWithCopyWarning: \n",
            "A value is trying to be set on a copy of a slice from a DataFrame.\n",
            "Try using .loc[row_indexer,col_indexer] = value instead\n",
            "\n",
            "See the caveats in the documentation: https://pandas.pydata.org/pandas-docs/stable/user_guide/indexing.html#returning-a-view-versus-a-copy\n",
            "  filtered_df['final_score'] = (alpha * filtered_df['ingredient_match_count'] +\n",
            "<ipython-input-25-61b8905cdf1d>:26: SettingWithCopyWarning: \n",
            "A value is trying to be set on a copy of a slice from a DataFrame.\n",
            "Try using .loc[row_indexer,col_indexer] = value instead\n",
            "\n",
            "See the caveats in the documentation: https://pandas.pydata.org/pandas-docs/stable/user_guide/indexing.html#returning-a-view-versus-a-copy\n",
            "  filtered_df['ingredient_coverage'] = filtered_df['ingredient_match_count'] / filtered_df['total_ingredients']\n",
            "<ipython-input-25-61b8905cdf1d>:27: SettingWithCopyWarning: \n",
            "A value is trying to be set on a copy of a slice from a DataFrame.\n",
            "Try using .loc[row_indexer,col_indexer] = value instead\n",
            "\n",
            "See the caveats in the documentation: https://pandas.pydata.org/pandas-docs/stable/user_guide/indexing.html#returning-a-view-versus-a-copy\n",
            "  filtered_df['final_score'] = (alpha * filtered_df['ingredient_match_count'] +\n",
            "<ipython-input-25-61b8905cdf1d>:26: SettingWithCopyWarning: \n",
            "A value is trying to be set on a copy of a slice from a DataFrame.\n",
            "Try using .loc[row_indexer,col_indexer] = value instead\n",
            "\n",
            "See the caveats in the documentation: https://pandas.pydata.org/pandas-docs/stable/user_guide/indexing.html#returning-a-view-versus-a-copy\n",
            "  filtered_df['ingredient_coverage'] = filtered_df['ingredient_match_count'] / filtered_df['total_ingredients']\n",
            "<ipython-input-25-61b8905cdf1d>:27: SettingWithCopyWarning: \n",
            "A value is trying to be set on a copy of a slice from a DataFrame.\n",
            "Try using .loc[row_indexer,col_indexer] = value instead\n",
            "\n",
            "See the caveats in the documentation: https://pandas.pydata.org/pandas-docs/stable/user_guide/indexing.html#returning-a-view-versus-a-copy\n",
            "  filtered_df['final_score'] = (alpha * filtered_df['ingredient_match_count'] +\n",
            "<ipython-input-25-61b8905cdf1d>:26: SettingWithCopyWarning: \n",
            "A value is trying to be set on a copy of a slice from a DataFrame.\n",
            "Try using .loc[row_indexer,col_indexer] = value instead\n",
            "\n",
            "See the caveats in the documentation: https://pandas.pydata.org/pandas-docs/stable/user_guide/indexing.html#returning-a-view-versus-a-copy\n",
            "  filtered_df['ingredient_coverage'] = filtered_df['ingredient_match_count'] / filtered_df['total_ingredients']\n",
            "<ipython-input-25-61b8905cdf1d>:27: SettingWithCopyWarning: \n",
            "A value is trying to be set on a copy of a slice from a DataFrame.\n",
            "Try using .loc[row_indexer,col_indexer] = value instead\n",
            "\n",
            "See the caveats in the documentation: https://pandas.pydata.org/pandas-docs/stable/user_guide/indexing.html#returning-a-view-versus-a-copy\n",
            "  filtered_df['final_score'] = (alpha * filtered_df['ingredient_match_count'] +\n",
            "<ipython-input-25-61b8905cdf1d>:26: SettingWithCopyWarning: \n",
            "A value is trying to be set on a copy of a slice from a DataFrame.\n",
            "Try using .loc[row_indexer,col_indexer] = value instead\n",
            "\n",
            "See the caveats in the documentation: https://pandas.pydata.org/pandas-docs/stable/user_guide/indexing.html#returning-a-view-versus-a-copy\n",
            "  filtered_df['ingredient_coverage'] = filtered_df['ingredient_match_count'] / filtered_df['total_ingredients']\n",
            "<ipython-input-25-61b8905cdf1d>:27: SettingWithCopyWarning: \n",
            "A value is trying to be set on a copy of a slice from a DataFrame.\n",
            "Try using .loc[row_indexer,col_indexer] = value instead\n",
            "\n",
            "See the caveats in the documentation: https://pandas.pydata.org/pandas-docs/stable/user_guide/indexing.html#returning-a-view-versus-a-copy\n",
            "  filtered_df['final_score'] = (alpha * filtered_df['ingredient_match_count'] +\n",
            "<ipython-input-25-61b8905cdf1d>:26: SettingWithCopyWarning: \n",
            "A value is trying to be set on a copy of a slice from a DataFrame.\n",
            "Try using .loc[row_indexer,col_indexer] = value instead\n",
            "\n",
            "See the caveats in the documentation: https://pandas.pydata.org/pandas-docs/stable/user_guide/indexing.html#returning-a-view-versus-a-copy\n",
            "  filtered_df['ingredient_coverage'] = filtered_df['ingredient_match_count'] / filtered_df['total_ingredients']\n",
            "<ipython-input-25-61b8905cdf1d>:27: SettingWithCopyWarning: \n",
            "A value is trying to be set on a copy of a slice from a DataFrame.\n",
            "Try using .loc[row_indexer,col_indexer] = value instead\n",
            "\n",
            "See the caveats in the documentation: https://pandas.pydata.org/pandas-docs/stable/user_guide/indexing.html#returning-a-view-versus-a-copy\n",
            "  filtered_df['final_score'] = (alpha * filtered_df['ingredient_match_count'] +\n",
            "<ipython-input-25-61b8905cdf1d>:26: SettingWithCopyWarning: \n",
            "A value is trying to be set on a copy of a slice from a DataFrame.\n",
            "Try using .loc[row_indexer,col_indexer] = value instead\n",
            "\n",
            "See the caveats in the documentation: https://pandas.pydata.org/pandas-docs/stable/user_guide/indexing.html#returning-a-view-versus-a-copy\n",
            "  filtered_df['ingredient_coverage'] = filtered_df['ingredient_match_count'] / filtered_df['total_ingredients']\n",
            "<ipython-input-25-61b8905cdf1d>:27: SettingWithCopyWarning: \n",
            "A value is trying to be set on a copy of a slice from a DataFrame.\n",
            "Try using .loc[row_indexer,col_indexer] = value instead\n",
            "\n",
            "See the caveats in the documentation: https://pandas.pydata.org/pandas-docs/stable/user_guide/indexing.html#returning-a-view-versus-a-copy\n",
            "  filtered_df['final_score'] = (alpha * filtered_df['ingredient_match_count'] +\n",
            "<ipython-input-25-61b8905cdf1d>:26: SettingWithCopyWarning: \n",
            "A value is trying to be set on a copy of a slice from a DataFrame.\n",
            "Try using .loc[row_indexer,col_indexer] = value instead\n",
            "\n",
            "See the caveats in the documentation: https://pandas.pydata.org/pandas-docs/stable/user_guide/indexing.html#returning-a-view-versus-a-copy\n",
            "  filtered_df['ingredient_coverage'] = filtered_df['ingredient_match_count'] / filtered_df['total_ingredients']\n",
            "<ipython-input-25-61b8905cdf1d>:27: SettingWithCopyWarning: \n",
            "A value is trying to be set on a copy of a slice from a DataFrame.\n",
            "Try using .loc[row_indexer,col_indexer] = value instead\n",
            "\n",
            "See the caveats in the documentation: https://pandas.pydata.org/pandas-docs/stable/user_guide/indexing.html#returning-a-view-versus-a-copy\n",
            "  filtered_df['final_score'] = (alpha * filtered_df['ingredient_match_count'] +\n"
          ]
        },
        {
          "output_type": "stream",
          "name": "stdout",
          "text": [
            "                                             title  ingredient_match_count  \\\n",
            "14622                     All-Butter Pastry Dough                      0.0   \n",
            "10551  Pomegranate and Fennel Glazed Rack of Lamb                      0.0   \n",
            "9126                                Ras-El-Hanout                      0.0   \n",
            "9096                                 Simple Syrup                      0.0   \n",
            "18534       Gingered Steak and Napa Cabbage Salad                      0.0   \n",
            "10114                                Simple Syrup                      0.0   \n",
            "5346                                Ras-El-Hanout                      0.0   \n",
            "16498                  Pierogi and Vareniki Dough                      0.0   \n",
            "1666                                    Gremolata                      0.0   \n",
            "10331                                   Gremolata                      0.0   \n",
            "\n",
            "       missing_ingredients  ingredient_coverage  rating  final_score  \n",
            "14622                  1.0                  0.0   5.000       0.1000  \n",
            "10551                  1.0                  0.0   5.000       0.1000  \n",
            "9126                   1.0                  0.0   4.375       0.0875  \n",
            "9096                   1.0                  0.0   4.375       0.0875  \n",
            "18534                  1.0                  0.0   4.375       0.0875  \n",
            "10114                  1.0                  0.0   4.375       0.0875  \n",
            "5346                   1.0                  0.0   4.375       0.0875  \n",
            "16498                  1.0                  0.0   4.375       0.0875  \n",
            "1666                   1.0                  0.0   3.750       0.0750  \n",
            "10331                  1.0                  0.0   3.750       0.0750  \n"
          ]
        },
        {
          "output_type": "stream",
          "name": "stderr",
          "text": [
            "<ipython-input-25-61b8905cdf1d>:26: SettingWithCopyWarning: \n",
            "A value is trying to be set on a copy of a slice from a DataFrame.\n",
            "Try using .loc[row_indexer,col_indexer] = value instead\n",
            "\n",
            "See the caveats in the documentation: https://pandas.pydata.org/pandas-docs/stable/user_guide/indexing.html#returning-a-view-versus-a-copy\n",
            "  filtered_df['ingredient_coverage'] = filtered_df['ingredient_match_count'] / filtered_df['total_ingredients']\n",
            "<ipython-input-25-61b8905cdf1d>:27: SettingWithCopyWarning: \n",
            "A value is trying to be set on a copy of a slice from a DataFrame.\n",
            "Try using .loc[row_indexer,col_indexer] = value instead\n",
            "\n",
            "See the caveats in the documentation: https://pandas.pydata.org/pandas-docs/stable/user_guide/indexing.html#returning-a-view-versus-a-copy\n",
            "  filtered_df['final_score'] = (alpha * filtered_df['ingredient_match_count'] +\n",
            "<ipython-input-25-61b8905cdf1d>:26: SettingWithCopyWarning: \n",
            "A value is trying to be set on a copy of a slice from a DataFrame.\n",
            "Try using .loc[row_indexer,col_indexer] = value instead\n",
            "\n",
            "See the caveats in the documentation: https://pandas.pydata.org/pandas-docs/stable/user_guide/indexing.html#returning-a-view-versus-a-copy\n",
            "  filtered_df['ingredient_coverage'] = filtered_df['ingredient_match_count'] / filtered_df['total_ingredients']\n",
            "<ipython-input-25-61b8905cdf1d>:27: SettingWithCopyWarning: \n",
            "A value is trying to be set on a copy of a slice from a DataFrame.\n",
            "Try using .loc[row_indexer,col_indexer] = value instead\n",
            "\n",
            "See the caveats in the documentation: https://pandas.pydata.org/pandas-docs/stable/user_guide/indexing.html#returning-a-view-versus-a-copy\n",
            "  filtered_df['final_score'] = (alpha * filtered_df['ingredient_match_count'] +\n"
          ]
        }
      ]
    },
    {
      "cell_type": "code",
      "source": [
        "def recommend_recipes_with_missing(user_ingredients, df, alpha=0.6, beta=0.3, gamma=0.1, top_n=10):\n",
        "    \"\"\"\n",
        "    Recommend recipes and show missing ingredients to complete each recipe.\n",
        "    \"\"\"\n",
        "    valid_ingredients = [ing for ing in user_ingredients if ing in df.columns]\n",
        "    if not valid_ingredients:\n",
        "        print(\"No valid ingredients found.\")\n",
        "        return pd.DataFrame()\n",
        "\n",
        "    # Calculate match count\n",
        "    df['ingredient_match_count'] = df[valid_ingredients].sum(axis=1)\n",
        "\n",
        "    # Calculate missing ingredients (list)\n",
        "    def get_missing_ingredients(row):\n",
        "        recipe_ings = [col for col in df.columns if col not in ['title', 'rating', 'calories', 'protein', 'fat', 'sodium',\n",
        "                                                              'ingredient_match_count', 'missing_ingredients_list',\n",
        "                                                              'ingredient_coverage', 'rating_norm', 'final_score',\n",
        "                                                              'total_ingredients']]\n",
        "        missing = [ing for ing in recipe_ings if row[ing] == 1 and ing not in valid_ingredients]\n",
        "        return missing\n",
        "\n",
        "    df['missing_ingredients_list'] = df.apply(get_missing_ingredients, axis=1)\n",
        "\n",
        "    # Calculate coverage ratio\n",
        "    df['ingredient_coverage'] = df['ingredient_match_count'] / df['total_ingredients']\n",
        "\n",
        "    # Normalize rating if not done yet\n",
        "    if 'rating_norm' not in df.columns:\n",
        "        max_rating = df['rating'].max()\n",
        "        min_rating = df['rating'].min()\n",
        "        df['rating_norm'] = (df['rating'] - min_rating) / (max_rating - min_rating)\n",
        "\n",
        "    # Final scoring\n",
        "    df['final_score'] = (alpha * df['ingredient_match_count'] +\n",
        "                         beta * df['ingredient_coverage'] +\n",
        "                         gamma * df['rating_norm'])\n",
        "\n",
        "    # Filter to recipes with at least one matched ingredient\n",
        "    filtered_df = df[df['ingredient_match_count'] > 0]\n",
        "\n",
        "    # Sort and pick top_n\n",
        "    top_recipes = filtered_df.sort_values('final_score', ascending=False).head(top_n)\n",
        "\n",
        "    # Select relevant columns including missing ingredients list\n",
        "    return top_recipes[['title', 'ingredient_match_count', 'missing_ingredients_list', 'ingredient_coverage', 'rating', 'final_score']]\n"
      ],
      "metadata": {
        "id": "1Ai8eWN2AB8b"
      },
      "execution_count": 27,
      "outputs": []
    },
    {
      "cell_type": "code",
      "source": [
        "user_ingredients = ['onion', 'cheese', 'eggs', 'tomato']\n",
        "recommendations = recommend_recipes_with_missing(user_ingredients, recipes)\n",
        "for idx, row in recommendations.iterrows():\n",
        "    print(f\"{idx+1}. {row['title']}\")\n",
        "    print(f\"   Matched ingredients: {row['ingredient_match_count']}\")\n",
        "    print(f\"   Missing ingredients: {', '.join(row['missing_ingredients_list']) if row['missing_ingredients_list'] else 'None'}\")\n",
        "    print(f\"   Coverage: {row['ingredient_coverage']:.2%}\")\n",
        "    print(f\"   Rating: {row['rating']}\")\n",
        "    print(f\"   Score: {row['final_score']:.3f}\\n\")\n"
      ],
      "metadata": {
        "colab": {
          "base_uri": "https://localhost:8080/"
        },
        "id": "c3kSQER7FP9w",
        "outputId": "6697b803-a819-4d4f-c63a-307e5b1edaf6"
      },
      "execution_count": 28,
      "outputs": [
        {
          "output_type": "stream",
          "name": "stdout",
          "text": [
            "4190. Three-Cheese Fondue with Tomato Onion Chutney \n",
            "   Matched ingredients: 3.0\n",
            "   Missing ingredients: gourmet, winter\n",
            "   Coverage: 37.50%\n",
            "   Rating: 5.0\n",
            "   Score: 2.012\n",
            "\n",
            "17671. Handmade Pasta with Pancetta, Cherry Tomatoes, and Herbs \n",
            "   Matched ingredients: 3.0\n",
            "   Missing ingredients: bon appétit, dairy, herb, pasta, pork\n",
            "   Coverage: 27.27%\n",
            "   Rating: 5.0\n",
            "   Score: 1.982\n",
            "\n",
            "7509. Chile-Marinated Pork Sandwiches on Cemita Rolls \n",
            "   Matched ingredients: 3.0\n",
            "   Missing ingredients: avocado, broil, gourmet, hot pepper, marinate, pork, sandwich, sauté\n",
            "   Coverage: 15.79%\n",
            "   Rating: 5.0\n",
            "   Score: 1.947\n",
            "\n",
            "19872. Artichoke and Feta Cheese Pizza \n",
            "   Matched ingredients: 3.0\n",
            "   Missing ingredients: bake, bon appétit, feta, quick & easy, spring, vegetarian\n",
            "   Coverage: 18.75%\n",
            "   Rating: 4.375\n",
            "   Score: 1.944\n",
            "\n",
            "8373. Linguine with Spicy Leek and Tomato Sauce \n",
            "   Matched ingredients: 3.0\n",
            "   Missing ingredients: bon appétit, dairy, garlic, kid-friendly, pasta, quick & easy, sauté, vegetarian\n",
            "   Coverage: 17.65%\n",
            "   Rating: 4.375\n",
            "   Score: 1.940\n",
            "\n",
            "8224. Tortilla Soup with Chiles and Tomatoes \n",
            "   Matched ingredients: 3.0\n",
            "   Missing ingredients: dinner, garlic, gourmet, no sugar added, peanut free, soy free, tortillas, tree nut free, wheat/gluten-free, winter\n",
            "   Coverage: 12.50%\n",
            "   Rating: 5.0\n",
            "   Score: 1.938\n",
            "\n",
            "6620. Wild Boar Ragù \n",
            "   Matched ingredients: 3.0\n",
            "   Missing ingredients: dairy, dinner, fish, garlic, herb, pasta, peanut free, pepper, sauté, soy free, tree nut free\n",
            "   Coverage: 12.50%\n",
            "   Rating: 5.0\n",
            "   Score: 1.938\n",
            "\n",
            "17118. Baked Rigatoni with Pork Ragù and Almonds (Pasta Chi Civa) \n",
            "   Matched ingredients: 3.0\n",
            "   Missing ingredients: dinner, gourmet, mardi gras, pasta, pork, sauté, winter\n",
            "   Coverage: 20.00%\n",
            "   Rating: 3.75\n",
            "   Score: 1.935\n",
            "\n",
            "19132. Gnocchetti Sardi with Wild Boar \n",
            "   Matched ingredients: 3.0\n",
            "   Missing ingredients: carrot, celery, garlic, parsley, pasta, red wine, sauté, winter\n",
            "   Coverage: 15.79%\n",
            "   Rating: 4.375\n",
            "   Score: 1.935\n",
            "\n",
            "4722. Linguine with Eggplant \n",
            "   Matched ingredients: 3.0\n",
            "   Missing ingredients: eggplant, gourmet, pasta, summer, vegetarian\n",
            "   Coverage: 23.08%\n",
            "   Rating: 3.125\n",
            "   Score: 1.932\n",
            "\n"
          ]
        }
      ]
    },
    {
      "cell_type": "markdown",
      "source": [
        "#### some UI stuff to test the code"
      ],
      "metadata": {
        "id": "iHOFEK-lodoy"
      }
    },
    {
      "cell_type": "code",
      "source": [
        "import ipywidgets as widgets\n",
        "from IPython.display import display, clear_output\n",
        "\n",
        "# Input widget for ingredients\n",
        "ingredients_input = widgets.Text(\n",
        "    value='eggs, cheese, onion',\n",
        "    placeholder='Enter ingredients separated by commas',\n",
        "    description='Ingredients:',\n",
        "    disabled=False,\n",
        "    layout=widgets.Layout(width='70%')\n",
        ")\n",
        "\n",
        "# Slider to select number of recipes to show\n",
        "top_n_slider = widgets.IntSlider(\n",
        "    value=5,\n",
        "    min=1,\n",
        "    max=20,\n",
        "    step=1,\n",
        "    description='Top N:',\n",
        "    continuous_update=False,\n",
        "    layout=widgets.Layout(width='50%')\n",
        ")\n",
        "\n",
        "# Button to trigger recommendations\n",
        "recommend_button = widgets.Button(description=\"Get Recommendations\")\n",
        "\n",
        "# Output widget to show results\n",
        "output = widgets.Output()\n",
        "\n",
        "def on_recommend_clicked(b):\n",
        "    with output:\n",
        "        clear_output()\n",
        "        user_ings = [i.strip().lower() for i in ingredients_input.value.split(',') if i.strip()]\n",
        "        top_n = top_n_slider.value\n",
        "        if not user_ings:\n",
        "            print(\"Please enter at least one ingredient.\")\n",
        "            return\n",
        "        results = recommend_recipes_with_missing(user_ings, recipes, top_n=top_n)\n",
        "        if results.empty:\n",
        "            print(\"No recipes found matching your ingredients.\")\n",
        "            return\n",
        "        for i, row in results.iterrows():\n",
        "            print(f\"{i+1}. {row['title']}\")\n",
        "            print(f\"   Matched: {int(row['ingredient_match_count'])}, Missing: {', '.join(row['missing_ingredients_list']) or 'None'}\")\n",
        "            print(f\"   Coverage: {row['ingredient_coverage']:.2%}, Rating: {row['rating']:.2f}\")\n",
        "            print(f\"   Score: {row['final_score']:.3f}\\n\")\n",
        "\n",
        "recommend_button.on_click(on_recommend_clicked)\n",
        "\n",
        "# Display the UI\n",
        "display(ingredients_input, top_n_slider, recommend_button, output)\n"
      ],
      "metadata": {
        "colab": {
          "base_uri": "https://localhost:8080/",
          "height": 545,
          "referenced_widgets": [
            "6598bef5051e438485d12535aa0d4223",
            "da2701a15ea34e2997706b87091b77cf",
            "ea64af79452642a3b3b72cf107c0e3dd",
            "278177b06e1c4c98bd2a28e761c121e2",
            "25798b9e23bd48f69acf4666bd15e0a4",
            "00744294c08a4aa0b3d81118f61f08aa",
            "149d6613771247e79619638ee6bc45ac",
            "d848b45b668c4286bfcb31fcd1e6eada",
            "d00598d185ec448a92183da10d149a27",
            "575908905f344ef2a932c6f46ab828cf",
            "f1cb3970c18a45f795d0cee26e2709bc"
          ]
        },
        "id": "PfOD72SAFSah",
        "outputId": "5c7619bf-4318-45d0-ebfe-f98b0c93d5f0"
      },
      "execution_count": 29,
      "outputs": [
        {
          "output_type": "display_data",
          "data": {
            "text/plain": [
              "Text(value='eggs, cheese, onion', description='Ingredients:', layout=Layout(width='70%'), placeholder='Enter i…"
            ],
            "application/vnd.jupyter.widget-view+json": {
              "version_major": 2,
              "version_minor": 0,
              "model_id": "6598bef5051e438485d12535aa0d4223"
            }
          },
          "metadata": {}
        },
        {
          "output_type": "display_data",
          "data": {
            "text/plain": [
              "IntSlider(value=5, continuous_update=False, description='Top N:', layout=Layout(width='50%'), max=20, min=1)"
            ],
            "application/vnd.jupyter.widget-view+json": {
              "version_major": 2,
              "version_minor": 0,
              "model_id": "278177b06e1c4c98bd2a28e761c121e2"
            }
          },
          "metadata": {}
        },
        {
          "output_type": "display_data",
          "data": {
            "text/plain": [
              "Button(description='Get Recommendations', style=ButtonStyle())"
            ],
            "application/vnd.jupyter.widget-view+json": {
              "version_major": 2,
              "version_minor": 0,
              "model_id": "149d6613771247e79619638ee6bc45ac"
            }
          },
          "metadata": {}
        },
        {
          "output_type": "display_data",
          "data": {
            "text/plain": [
              "Output()"
            ],
            "application/vnd.jupyter.widget-view+json": {
              "version_major": 2,
              "version_minor": 0,
              "model_id": "575908905f344ef2a932c6f46ab828cf"
            }
          },
          "metadata": {}
        }
      ]
    },
    {
      "cell_type": "code",
      "source": [],
      "metadata": {
        "id": "mBp8BqDVoiHc"
      },
      "execution_count": 29,
      "outputs": []
    }
  ]
}